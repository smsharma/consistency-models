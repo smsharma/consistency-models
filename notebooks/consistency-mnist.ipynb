{
 "cells": [
  {
   "cell_type": "code",
   "execution_count": 23,
   "id": "c551e8f4-6672-428b-abd0-6154a325732c",
   "metadata": {},
   "outputs": [],
   "source": [
    "import sys\n",
    "\n",
    "sys.path.append(\"../\")\n",
    "\n",
    "import jax\n",
    "import jax.numpy as np\n",
    "import tensorflow as tf\n",
    "import tensorflow_datasets as tfds\n",
    "import optax\n",
    "from tqdm import tqdm, trange\n",
    "import flax\n",
    "\n",
    "import math\n",
    "from functools import partial\n",
    "import matplotlib.pyplot as plt\n",
    "\n",
    "# Ensure TF does not see GPU and grab all GPU memory\n",
    "tf.config.experimental.set_visible_devices([], \"GPU\")\n",
    "\n",
    "from models.mlp_mixer import MLPMixer\n",
    "from models.utils import get_timestep_embedding, karras_boundaries, TrainState, apply_ema_decay"
   ]
  },
  {
   "cell_type": "code",
   "execution_count": 24,
   "id": "d5094ecf-edd1-4a3d-b6e3-bffac6f72195",
   "metadata": {},
   "outputs": [],
   "source": [
    "key = jax.random.PRNGKey(42)\n",
    "score = MLPMixer(4, 4, 64, 512, 512)\n",
    "\n",
    "x = jax.random.normal(key, (4, 28, 28, 1))\n",
    "t = np.ones((4, 16))\n",
    "\n",
    "out, params = score.init_with_output(key, x, t)"
   ]
  },
  {
   "cell_type": "code",
   "execution_count": 25,
   "id": "d761d328-6de2-4e2d-a8f6-38a39e2d6609",
   "metadata": {},
   "outputs": [
    {
     "name": "stderr",
     "output_type": "stream",
     "text": [
      "/tmp/ipykernel_28862/236323635.py:1: FutureWarning: jax.tree_leaves is deprecated, and will be removed in a future release. Use jax.tree_util.tree_leaves instead.\n",
      "  sum(x.size for x in jax.tree_leaves(params))\n"
     ]
    },
    {
     "data": {
      "text/plain": [
       "487060"
      ]
     },
     "execution_count": 25,
     "metadata": {},
     "output_type": "execute_result"
    }
   ],
   "source": [
    "sum(x.size for x in jax.tree_leaves(params))"
   ]
  },
  {
   "cell_type": "code",
   "execution_count": 27,
   "id": "2bc76e1b-a513-40c0-ac41-a2852fdda615",
   "metadata": {},
   "outputs": [],
   "source": [
    "num_batch = 256\n",
    "d_t_emb = 16\n",
    "\n",
    "# Load MNIST dataset\n",
    "mnist_dataset, mnist_info = tfds.load(name=\"mnist\", with_info=True, as_supervised=True)\n",
    "\n",
    "# Split dataset into training and testing sets\n",
    "mnist_train, mnist_test = mnist_dataset[\"train\"], mnist_dataset[\"test\"]\n",
    "\n",
    "mean = 0.1307\n",
    "std = 0.3081\n",
    "\n",
    "# Define function to normalize pixel values\n",
    "def normalize(image, label):\n",
    "    image = tf.cast(image, tf.float32) / 255\n",
    "    image = (image - mean) / std\n",
    "    return image, label\n",
    "\n",
    "# Apply normalization to both training and testing sets\n",
    "mnist_train = mnist_train.map(normalize)\n",
    "mnist_test = mnist_test.map(normalize)\n",
    "\n",
    "# Shuffle and batch the training set\n",
    "mnist_train = mnist_train.shuffle(mnist_info.splits[\"train\"].num_examples)\n",
    "mnist_train = mnist_train.batch(num_batch)\n",
    "mnist_train = mnist_train.cache().repeat()\n",
    "\n",
    "# Batch the testing set\n",
    "mnist_test = mnist_test.batch(num_batch)\n",
    "\n",
    "batches = iter(mnist_train)"
   ]
  },
  {
   "cell_type": "code",
   "execution_count": 14,
   "id": "54c188fc-d1ee-403c-997f-239d9363086f",
   "metadata": {},
   "outputs": [
    {
     "name": "stderr",
     "output_type": "stream",
     "text": [
      "100%|███████████████████████████████| 10000/10000 [04:50<00:00, 34.37it/s, val=0.00032855928]\n"
     ]
    }
   ],
   "source": [
    "def f_theta(params, score, x, t):\n",
    "\n",
    "    sigma_data = 0.5\n",
    "\n",
    "    c_skip = sigma_data ** 2 / ((t - eps) ** 2 + sigma_data ** 2)\n",
    "    c_out = sigma_data * (t - eps) / np.sqrt(sigma_data ** 2 + t ** 2)\n",
    "\n",
    "    t = t[..., 0]\n",
    "    t = get_timestep_embedding(t, d_t_emb)\n",
    "    x_out = score.apply(params, x, t)\n",
    "\n",
    "    return x * c_skip[:, :, None, None] + x_out * c_out[:, :, None, None]\n",
    "\n",
    "\n",
    "@partial(jax.jit, static_argnums=(5,))\n",
    "def loss_fn(params, params_ema, x, t1, t2, score, key):\n",
    "\n",
    "    z = jax.random.normal(key, shape=x.shape)\n",
    "\n",
    "    x2 = x + z * t2[:, :, None, None]\n",
    "    x2 = f_theta(params, score, x2, t2)\n",
    "\n",
    "    x1 = x + z * t1[:, :, None, None]\n",
    "    x1 = f_theta(params_ema, score, x1, t1)\n",
    "\n",
    "    return np.mean((x1 - x2) ** 2)\n",
    "\n",
    "\n",
    "score = MLPMixer(4, 4, 64, 512, 512)\n",
    "\n",
    "key = jax.random.PRNGKey(42)\n",
    "x = jax.random.normal(key, (4, 28, 28, 1))\n",
    "t = np.ones((4, d_t_emb))\n",
    "params = score.init(key, x, t)\n",
    "\n",
    "tx = optax.adamw(learning_rate=3e-4, weight_decay=1e-4)\n",
    "state = TrainState.create(apply_fn=score.apply, params=params, tx=tx, params_ema=params)\n",
    "\n",
    "num_steps = 50000\n",
    "\n",
    "s0 = 2\n",
    "s1 = 150\n",
    "mu0 = 0.9\n",
    "eps = 0.002\n",
    "T = 60.0\n",
    "\n",
    "@partial(jax.jit, static_argnums=(5,6,))\n",
    "def train_step(state, batch, t1, t2, key, model, loss_fn, mu):\n",
    "    loss, grads = jax.value_and_grad(loss_fn)(state.params, state.params_ema, x_batch, t1, t2, model, key)\n",
    "    state = state.apply_gradients(grads=grads)\n",
    "    state = apply_ema_decay(state, mu)\n",
    "    return state, loss\n",
    "    \n",
    "with trange(num_steps) as steps:\n",
    "    for step in steps:\n",
    "\n",
    "        x_batch, y_batch = next(batches)\n",
    "        x_batch, y_batch = x_batch._numpy(), y_batch._numpy()\n",
    "\n",
    "        N = math.ceil(math.sqrt((step * ((s1 + 1) ** 2 - s0**2) / num_steps) + s0**2) - 1) + 1\n",
    "        mu = math.exp(s0 * math.log(mu0) / N)\n",
    "\n",
    "        boundaries = karras_boundaries(7.0, eps, N, T)\n",
    "\n",
    "        key, _ = jax.random.split(key)\n",
    "        n_batch = jax.random.randint(key, minval=0, maxval=N, shape=(x_batch.shape[0], 1))\n",
    "\n",
    "        key, _ = jax.random.split(key)\n",
    "        \n",
    "        state, loss = train_step(state, x_batch, boundaries[n_batch], boundaries[n_batch + 1], key, score, loss_fn, mu)\n",
    "\n",
    "        steps.set_postfix(val=loss)"
   ]
  },
  {
   "cell_type": "code",
   "execution_count": 15,
   "id": "72fd8dcc-98fc-4980-844f-8a22cd245d43",
   "metadata": {},
   "outputs": [],
   "source": [
    "def sample(params, score, ts, key):\n",
    "    \n",
    "    x0 = jax.random.normal(key, shape=(n_samples, 28, 28, 1)) * ts[0]\n",
    "    x = f_theta(params, score, x0, np.repeat(ts[0], x0.shape[0])[:, None])\n",
    "    for t in ts[1:]:\n",
    "        key, _ = jax.random.split(key)\n",
    "        z = jax.random.normal(key, shape=x0.shape)\n",
    "        x = x + math.sqrt(t ** 2 - eps ** 2) * z\n",
    "        x = f_theta(params, score, x, np.repeat(t, x0.shape[0])[:, None])\n",
    "        \n",
    "    return x\n",
    "\n",
    "n_samples = 10\n",
    "key = jax.random.PRNGKey(32)\n",
    "x_samples = sample(state.params, score, list(reversed([0.1, 2., T / 4., T / 2., T])), key)"
   ]
  },
  {
   "cell_type": "code",
   "execution_count": 22,
   "id": "78ad5b12-06d0-4a3d-b7ba-a5030c3faa03",
   "metadata": {},
   "outputs": [
    {
     "data": {
      "text/plain": [
       "<matplotlib.image.AxesImage at 0x2b0e765f18e0>"
      ]
     },
     "execution_count": 22,
     "metadata": {},
     "output_type": "execute_result"
    },
    {
     "data": {
      "image/png": "[encoded data removed]",
      "text/plain": [
       "<Figure size 432x288 with 1 Axes>"
      ]
     },
     "metadata": {
      "needs_background": "light"
     },
     "output_type": "display_data"
    }
   ],
   "source": [
    "plt.imshow(x_samples[43, :, :, 0], origin='lower', cmap='binary_r')"
   ]
  },
  {
   "cell_type": "code",
   "execution_count": 17,
   "id": "92922ef6-e49b-45eb-a912-ad925d3158fc",
   "metadata": {},
   "outputs": [
    {
     "data": {
      "text/plain": [
       "<matplotlib.image.AxesImage at 0x2b0e76374a60>"
      ]
     },
     "execution_count": 17,
     "metadata": {},
     "output_type": "execute_result"
    },
    {
     "data": {
      "image/png": "[encoded data removed]",
      "text/plain": [
       "<Figure size 432x288 with 1 Axes>"
      ]
     },
     "metadata": {
      "needs_background": "light"
     },
     "output_type": "display_data"
    }
   ],
   "source": [
    "plt.imshow(np.array(x_batch[5, :, :, 0]), origin='lower', cmap='binary_r')"
   ]
  },
  {
   "cell_type": "code",
   "execution_count": null,
   "id": "4c5dc5ba-fe13-42bc-812c-071a98cfe0d3",
   "metadata": {},
   "outputs": [],
   "source": []
  }
 ],
 "metadata": {
  "kernelspec": {
   "display_name": "Python 3 (ipykernel)",
   "language": "python",
   "name": "python3"
  },
  "language_info": {
   "codemirror_mode": {
    "name": "ipython",
    "version": 3
   },
   "file_extension": ".py",
   "mimetype": "text/x-python",
   "name": "python",
   "nbconvert_exporter": "python",
   "pygments_lexer": "ipython3",
   "version": "3.9.12"
  }
 },
 "nbformat": 4,
 "nbformat_minor": 5
}
