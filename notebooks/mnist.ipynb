{
 "cells": [
  {
   "cell_type": "code",
   "execution_count": 1,
   "id": "579ce2f8-851b-49f5-b345-3dc4d49b2908",
   "metadata": {},
   "outputs": [],
   "source": [
    "import sys\n",
    "sys.path.append(\"../\")\n",
    "\n",
    "import jax\n",
    "import jax.numpy as np\n",
    "import tensorflow as tf\n",
    "import tensorflow_datasets as tfds\n",
    "\n",
    "import math\n",
    "from functools import partial\n",
    "\n",
    "# Ensure TF does not see GPU and grab all GPU memory\n",
    "tf.config.experimental.set_visible_devices([], \"GPU\")\n",
    "\n",
    "from models.transformer import VisionTransformer\n",
    "\n",
    "%load_ext autoreload\n",
    "%autoreload 2"
   ]
  },
  {
   "cell_type": "code",
   "execution_count": 2,
   "id": "4afa21a6-7b84-402d-a975-69249c6e78a1",
   "metadata": {},
   "outputs": [
    {
     "data": {
      "text/plain": [
       "(4, 28, 28, 1)"
      ]
     },
     "execution_count": 2,
     "metadata": {},
     "output_type": "execute_result"
    }
   ],
   "source": [
    "from models.mlp_mixer import MLPMixer\n",
    "\n",
    "mlp_mixer = MLPMixer(patch_size=4, channels=1, tokens_dim=64, mlp_dim=128, num_blocks=8)\n",
    "\n",
    "key = jax.random.PRNGKey(42)\n",
    "x = jax.random.normal(key, (4, 28, 28, 1))\n",
    "mlp_mixer.init_with_output(key, x)[0].shape"
   ]
  },
  {
   "cell_type": "code",
   "execution_count": 2,
   "id": "f0e5dc9b-74d8-4236-adce-111d153b51fd",
   "metadata": {},
   "outputs": [],
   "source": [
    "num_batch = 64\n",
    "\n",
    "# Load MNIST dataset\n",
    "mnist_dataset, mnist_info = tfds.load(name='mnist', with_info=True, as_supervised=True)\n",
    "\n",
    "# Split dataset into training and testing sets\n",
    "mnist_train, mnist_test = mnist_dataset['train'], mnist_dataset['test']\n",
    "\n",
    "# Define function to normalize pixel values\n",
    "def normalize(image, label):\n",
    "    image = tf.cast(image, tf.float32) / 255\n",
    "    image = (image - 0.5 / 0.5)\n",
    "    return image, label\n",
    "\n",
    "# Apply normalization to both training and testing sets\n",
    "mnist_train = mnist_train.map(normalize)\n",
    "mnist_test = mnist_test.map(normalize)\n",
    "\n",
    "# Shuffle and batch the training set\n",
    "mnist_train = mnist_train.shuffle(mnist_info.splits['train'].num_examples)\n",
    "mnist_train = mnist_train.batch(num_batch).prefetch(buffer_size=mnist_info.splits['train'].num_examples)\n",
    "mnist_train = mnist_train.cache()\n",
    "mnist_train = mnist_train.repeat()\n",
    "\n",
    "# Batch the testing set\n",
    "mnist_test = mnist_test.batch(num_batch)"
   ]
  },
  {
   "cell_type": "code",
   "execution_count": 3,
   "id": "b192cab8-87cc-4639-80e2-224c6b266fbf",
   "metadata": {},
   "outputs": [],
   "source": [
    "train_iter = iter(mnist_train)\n",
    "x, y = next(train_iter)"
   ]
  },
  {
   "cell_type": "code",
   "execution_count": 2,
   "id": "9fd1a690-4d0e-41d4-ad78-e8e5abab5be6",
   "metadata": {},
   "outputs": [],
   "source": [
    "from models.utils import get_timestep_embedding, karras_boundaries, TrainState, apply_ema_decay"
   ]
  },
  {
   "cell_type": "code",
   "execution_count": 323,
   "id": "de1a1b3a-75f2-4cac-b46c-add6bd7f64d0",
   "metadata": {},
   "outputs": [],
   "source": [
    "def f_theta(params, score, x, t, eps=0.002):\n",
    "    \n",
    "    sigma_data = 0.5\n",
    "    \n",
    "    c_skip = sigma_data ** 2 / ((t - eps) ** 2 + sigma_data ** 2)\n",
    "    c_out = sigma_data * (t - eps) / np.sqrt(sigma_data ** 2 + t ** 2)\n",
    "    \n",
    "    t = t[..., 0]\n",
    "    # t = get_timestep_embedding(t, 16)\n",
    "    x_out = score.apply(params, x, t)\n",
    "    \n",
    "    return x * c_skip[:, None, None] + x_out * c_out[:, None, None]"
   ]
  },
  {
   "cell_type": "code",
   "execution_count": 324,
   "id": "d60fec79-43d9-4f83-9d6f-e810d4dc5001",
   "metadata": {},
   "outputs": [],
   "source": [
    "@partial(jax.jit, static_argnums=(5,))\n",
    "def loss_fn(params, params_ema, x, t1, t2, score, key):\n",
    "\n",
    "    z = jax.random.normal(key, shape=x.shape)\n",
    "\n",
    "    x2 = x + z * t2[:, None, None]\n",
    "    x2 = f_theta(params, score, x2, t2)\n",
    "    \n",
    "    x1 = x + z * t1[:, None, None]\n",
    "    x1 = f_theta(params_ema, score, x1, t1)\n",
    "    \n",
    "    return np.mean((x1 - x2) ** 2) "
   ]
  },
  {
   "cell_type": "code",
   "execution_count": 325,
   "id": "78ee4411-4213-4d3e-b77d-44baa3bc769d",
   "metadata": {},
   "outputs": [],
   "source": [
    "from models.unet import Unet\n",
    "\n",
    "key = jax.random.PRNGKey(42)\n",
    "\n",
    "# score = VisionTransformer()\n",
    "score = Unet(dim=32, dim_mults=(1,2,4), resnet_block_groups=4)\n",
    "\n",
    "x = jax.random.normal(key, (4, 28, 28, 1))\n",
    "t = np.ones((4))\n",
    "\n",
    "params = score.init(key, x, t)"
   ]
  },
  {
   "cell_type": "code",
   "execution_count": 326,
   "id": "71a7bb57-e5d9-4113-b79f-80f34ac2b55c",
   "metadata": {},
   "outputs": [
    {
     "data": {
      "text/plain": [
       "Array(0.00489171, dtype=float32)"
      ]
     },
     "execution_count": 326,
     "metadata": {},
     "output_type": "execute_result"
    }
   ],
   "source": [
    "t = np.ones((4, 1))\n",
    "loss_fn(params, params, x, t, t + 0.1, score, key)"
   ]
  },
  {
   "cell_type": "code",
   "execution_count": 327,
   "id": "349ffe8a-bb6f-4b34-b3a9-c71fcb1c589e",
   "metadata": {},
   "outputs": [],
   "source": [
    "import optax\n",
    "\n",
    "tx = optax.adam(learning_rate=6e-4)\n",
    "\n",
    "state = TrainState.create(\n",
    "              apply_fn=score.apply, \n",
    "              params=params, \n",
    "              tx=tx, \n",
    "              params_ema=params)"
   ]
  },
  {
   "cell_type": "code",
   "execution_count": 328,
   "id": "d9f02db5-a3e8-44dc-a479-5b4de5495614",
   "metadata": {},
   "outputs": [
    {
     "name": "stderr",
     "output_type": "stream",
     "text": [
      "  1%|▎                                   | 95/10000 [01:26<2:30:08,  1.10it/s, val=1.4853511]\n"
     ]
    },
    {
     "ename": "KeyboardInterrupt",
     "evalue": "",
     "output_type": "error",
     "traceback": [
      "\u001b[0;31m---------------------------------------------------------------------------\u001b[0m",
      "\u001b[0;31mKeyboardInterrupt\u001b[0m                         Traceback (most recent call last)",
      "Input \u001b[0;32mIn [328]\u001b[0m, in \u001b[0;36m<cell line: 12>\u001b[0;34m()\u001b[0m\n\u001b[1;32m     26\u001b[0m key, _ \u001b[38;5;241m=\u001b[39m jax\u001b[38;5;241m.\u001b[39mrandom\u001b[38;5;241m.\u001b[39msplit(key)\n\u001b[1;32m     27\u001b[0m loss, grads \u001b[38;5;241m=\u001b[39m jax\u001b[38;5;241m.\u001b[39mvalue_and_grad(loss_fn)(state\u001b[38;5;241m.\u001b[39mparams, state\u001b[38;5;241m.\u001b[39mparams_ema, x_batch, boundaries[n_batch], boundaries[n_batch \u001b[38;5;241m+\u001b[39m \u001b[38;5;241m1\u001b[39m], score, key)            \n\u001b[0;32m---> 28\u001b[0m state \u001b[38;5;241m=\u001b[39m \u001b[43mstate\u001b[49m\u001b[38;5;241;43m.\u001b[39;49m\u001b[43mapply_gradients\u001b[49m\u001b[43m(\u001b[49m\u001b[43mgrads\u001b[49m\u001b[38;5;241;43m=\u001b[39;49m\u001b[43mgrads\u001b[49m\u001b[43m)\u001b[49m\n\u001b[1;32m     29\u001b[0m state \u001b[38;5;241m=\u001b[39m jax\u001b[38;5;241m.\u001b[39mlax\u001b[38;5;241m.\u001b[39mstop_gradient(apply_ema_decay(state, mu))\n\u001b[1;32m     31\u001b[0m steps\u001b[38;5;241m.\u001b[39mset_postfix(val\u001b[38;5;241m=\u001b[39mloss)\n",
      "File \u001b[0;32m~/.local/lib/python3.9/site-packages/flax/training/train_state.py:75\u001b[0m, in \u001b[0;36mTrainState.apply_gradients\u001b[0;34m(self, grads, **kwargs)\u001b[0m\n\u001b[1;32m     59\u001b[0m \u001b[38;5;250m\u001b[39m\u001b[38;5;124;03m\"\"\"Updates `step`, `params`, `opt_state` and `**kwargs` in return value.\u001b[39;00m\n\u001b[1;32m     60\u001b[0m \n\u001b[1;32m     61\u001b[0m \u001b[38;5;124;03mNote that internally this function calls `.tx.update()` followed by a call\u001b[39;00m\n\u001b[0;32m   (...)\u001b[0m\n\u001b[1;32m     71\u001b[0m \u001b[38;5;124;03m  replaced as specified by `kwargs`.\u001b[39;00m\n\u001b[1;32m     72\u001b[0m \u001b[38;5;124;03m\"\"\"\u001b[39;00m\n\u001b[1;32m     73\u001b[0m updates, new_opt_state \u001b[38;5;241m=\u001b[39m \u001b[38;5;28mself\u001b[39m\u001b[38;5;241m.\u001b[39mtx\u001b[38;5;241m.\u001b[39mupdate(\n\u001b[1;32m     74\u001b[0m     grads, \u001b[38;5;28mself\u001b[39m\u001b[38;5;241m.\u001b[39mopt_state, \u001b[38;5;28mself\u001b[39m\u001b[38;5;241m.\u001b[39mparams)\n\u001b[0;32m---> 75\u001b[0m new_params \u001b[38;5;241m=\u001b[39m \u001b[43moptax\u001b[49m\u001b[38;5;241;43m.\u001b[39;49m\u001b[43mapply_updates\u001b[49m\u001b[43m(\u001b[49m\u001b[38;5;28;43mself\u001b[39;49m\u001b[38;5;241;43m.\u001b[39;49m\u001b[43mparams\u001b[49m\u001b[43m,\u001b[49m\u001b[43m \u001b[49m\u001b[43mupdates\u001b[49m\u001b[43m)\u001b[49m\n\u001b[1;32m     76\u001b[0m \u001b[38;5;28;01mreturn\u001b[39;00m \u001b[38;5;28mself\u001b[39m\u001b[38;5;241m.\u001b[39mreplace(\n\u001b[1;32m     77\u001b[0m     step\u001b[38;5;241m=\u001b[39m\u001b[38;5;28mself\u001b[39m\u001b[38;5;241m.\u001b[39mstep \u001b[38;5;241m+\u001b[39m \u001b[38;5;241m1\u001b[39m,\n\u001b[1;32m     78\u001b[0m     params\u001b[38;5;241m=\u001b[39mnew_params,\n\u001b[1;32m     79\u001b[0m     opt_state\u001b[38;5;241m=\u001b[39mnew_opt_state,\n\u001b[1;32m     80\u001b[0m     \u001b[38;5;241m*\u001b[39m\u001b[38;5;241m*\u001b[39mkwargs,\n\u001b[1;32m     81\u001b[0m )\n",
      "File \u001b[0;32m~/.local/lib/python3.9/site-packages/optax/_src/update.py:42\u001b[0m, in \u001b[0;36mapply_updates\u001b[0;34m(params, updates)\u001b[0m\n\u001b[1;32m     24\u001b[0m \u001b[38;5;28;01mdef\u001b[39;00m \u001b[38;5;21mapply_updates\u001b[39m(params: base\u001b[38;5;241m.\u001b[39mParams, updates: base\u001b[38;5;241m.\u001b[39mUpdates) \u001b[38;5;241m-\u001b[39m\u001b[38;5;241m>\u001b[39m base\u001b[38;5;241m.\u001b[39mParams:\n\u001b[1;32m     25\u001b[0m \u001b[38;5;250m  \u001b[39m\u001b[38;5;124;03m\"\"\"Applies an update to the corresponding parameters.\u001b[39;00m\n\u001b[1;32m     26\u001b[0m \n\u001b[1;32m     27\u001b[0m \u001b[38;5;124;03m  This is a utility functions that applies an update to a set of parameters, and\u001b[39;00m\n\u001b[0;32m   (...)\u001b[0m\n\u001b[1;32m     40\u001b[0m \u001b[38;5;124;03m    Updated parameters, with same structure, shape and type as `params`.\u001b[39;00m\n\u001b[1;32m     41\u001b[0m \u001b[38;5;124;03m  \"\"\"\u001b[39;00m\n\u001b[0;32m---> 42\u001b[0m   \u001b[38;5;28;01mreturn\u001b[39;00m \u001b[43mjax\u001b[49m\u001b[38;5;241;43m.\u001b[39;49m\u001b[43mtree_util\u001b[49m\u001b[38;5;241;43m.\u001b[39;49m\u001b[43mtree_map\u001b[49m\u001b[43m(\u001b[49m\n\u001b[1;32m     43\u001b[0m \u001b[43m      \u001b[49m\u001b[38;5;28;43;01mlambda\u001b[39;49;00m\u001b[43m \u001b[49m\u001b[43mp\u001b[49m\u001b[43m,\u001b[49m\u001b[43m \u001b[49m\u001b[43mu\u001b[49m\u001b[43m:\u001b[49m\u001b[43m \u001b[49m\u001b[43mjnp\u001b[49m\u001b[38;5;241;43m.\u001b[39;49m\u001b[43masarray\u001b[49m\u001b[43m(\u001b[49m\u001b[43mp\u001b[49m\u001b[43m \u001b[49m\u001b[38;5;241;43m+\u001b[39;49m\u001b[43m \u001b[49m\u001b[43mu\u001b[49m\u001b[43m)\u001b[49m\u001b[38;5;241;43m.\u001b[39;49m\u001b[43mastype\u001b[49m\u001b[43m(\u001b[49m\u001b[43mjnp\u001b[49m\u001b[38;5;241;43m.\u001b[39;49m\u001b[43masarray\u001b[49m\u001b[43m(\u001b[49m\u001b[43mp\u001b[49m\u001b[43m)\u001b[49m\u001b[38;5;241;43m.\u001b[39;49m\u001b[43mdtype\u001b[49m\u001b[43m)\u001b[49m\u001b[43m,\u001b[49m\n\u001b[1;32m     44\u001b[0m \u001b[43m      \u001b[49m\u001b[43mparams\u001b[49m\u001b[43m,\u001b[49m\u001b[43m \u001b[49m\u001b[43mupdates\u001b[49m\u001b[43m)\u001b[49m\n",
      "File \u001b[0;32m~/.local/lib/python3.9/site-packages/jax/_src/tree_util.py:207\u001b[0m, in \u001b[0;36mtree_map\u001b[0;34m(f, tree, is_leaf, *rest)\u001b[0m\n\u001b[1;32m    205\u001b[0m leaves, treedef \u001b[38;5;241m=\u001b[39m tree_flatten(tree, is_leaf)\n\u001b[1;32m    206\u001b[0m all_leaves \u001b[38;5;241m=\u001b[39m [leaves] \u001b[38;5;241m+\u001b[39m [treedef\u001b[38;5;241m.\u001b[39mflatten_up_to(r) \u001b[38;5;28;01mfor\u001b[39;00m r \u001b[38;5;129;01min\u001b[39;00m rest]\n\u001b[0;32m--> 207\u001b[0m \u001b[38;5;28;01mreturn\u001b[39;00m \u001b[43mtreedef\u001b[49m\u001b[38;5;241;43m.\u001b[39;49m\u001b[43munflatten\u001b[49m\u001b[43m(\u001b[49m\u001b[43mf\u001b[49m\u001b[43m(\u001b[49m\u001b[38;5;241;43m*\u001b[39;49m\u001b[43mxs\u001b[49m\u001b[43m)\u001b[49m\u001b[43m \u001b[49m\u001b[38;5;28;43;01mfor\u001b[39;49;00m\u001b[43m \u001b[49m\u001b[43mxs\u001b[49m\u001b[43m \u001b[49m\u001b[38;5;129;43;01min\u001b[39;49;00m\u001b[43m \u001b[49m\u001b[38;5;28;43mzip\u001b[39;49m\u001b[43m(\u001b[49m\u001b[38;5;241;43m*\u001b[39;49m\u001b[43mall_leaves\u001b[49m\u001b[43m)\u001b[49m\u001b[43m)\u001b[49m\n",
      "File \u001b[0;32m~/.local/lib/python3.9/site-packages/jax/_src/tree_util.py:207\u001b[0m, in \u001b[0;36m<genexpr>\u001b[0;34m(.0)\u001b[0m\n\u001b[1;32m    205\u001b[0m leaves, treedef \u001b[38;5;241m=\u001b[39m tree_flatten(tree, is_leaf)\n\u001b[1;32m    206\u001b[0m all_leaves \u001b[38;5;241m=\u001b[39m [leaves] \u001b[38;5;241m+\u001b[39m [treedef\u001b[38;5;241m.\u001b[39mflatten_up_to(r) \u001b[38;5;28;01mfor\u001b[39;00m r \u001b[38;5;129;01min\u001b[39;00m rest]\n\u001b[0;32m--> 207\u001b[0m \u001b[38;5;28;01mreturn\u001b[39;00m treedef\u001b[38;5;241m.\u001b[39munflatten(\u001b[43mf\u001b[49m\u001b[43m(\u001b[49m\u001b[38;5;241;43m*\u001b[39;49m\u001b[43mxs\u001b[49m\u001b[43m)\u001b[49m \u001b[38;5;28;01mfor\u001b[39;00m xs \u001b[38;5;129;01min\u001b[39;00m \u001b[38;5;28mzip\u001b[39m(\u001b[38;5;241m*\u001b[39mall_leaves))\n",
      "File \u001b[0;32m~/.local/lib/python3.9/site-packages/optax/_src/update.py:43\u001b[0m, in \u001b[0;36mapply_updates.<locals>.<lambda>\u001b[0;34m(p, u)\u001b[0m\n\u001b[1;32m     24\u001b[0m \u001b[38;5;28;01mdef\u001b[39;00m \u001b[38;5;21mapply_updates\u001b[39m(params: base\u001b[38;5;241m.\u001b[39mParams, updates: base\u001b[38;5;241m.\u001b[39mUpdates) \u001b[38;5;241m-\u001b[39m\u001b[38;5;241m>\u001b[39m base\u001b[38;5;241m.\u001b[39mParams:\n\u001b[1;32m     25\u001b[0m \u001b[38;5;250m  \u001b[39m\u001b[38;5;124;03m\"\"\"Applies an update to the corresponding parameters.\u001b[39;00m\n\u001b[1;32m     26\u001b[0m \n\u001b[1;32m     27\u001b[0m \u001b[38;5;124;03m  This is a utility functions that applies an update to a set of parameters, and\u001b[39;00m\n\u001b[0;32m   (...)\u001b[0m\n\u001b[1;32m     40\u001b[0m \u001b[38;5;124;03m    Updated parameters, with same structure, shape and type as `params`.\u001b[39;00m\n\u001b[1;32m     41\u001b[0m \u001b[38;5;124;03m  \"\"\"\u001b[39;00m\n\u001b[1;32m     42\u001b[0m   \u001b[38;5;28;01mreturn\u001b[39;00m jax\u001b[38;5;241m.\u001b[39mtree_util\u001b[38;5;241m.\u001b[39mtree_map(\n\u001b[0;32m---> 43\u001b[0m       \u001b[38;5;28;01mlambda\u001b[39;00m p, u: jnp\u001b[38;5;241m.\u001b[39masarray(p \u001b[38;5;241m+\u001b[39m u)\u001b[38;5;241m.\u001b[39mastype(\u001b[43mjnp\u001b[49m\u001b[38;5;241;43m.\u001b[39;49m\u001b[43masarray\u001b[49m\u001b[43m(\u001b[49m\u001b[43mp\u001b[49m\u001b[43m)\u001b[49m\u001b[38;5;241m.\u001b[39mdtype),\n\u001b[1;32m     44\u001b[0m       params, updates)\n",
      "File \u001b[0;32m~/.local/lib/python3.9/site-packages/jax/_src/numpy/lax_numpy.py:2082\u001b[0m, in \u001b[0;36masarray\u001b[0;34m(a, dtype, order)\u001b[0m\n\u001b[1;32m   2080\u001b[0m lax_internal\u001b[38;5;241m.\u001b[39m_check_user_dtype_supported(dtype, \u001b[38;5;124m\"\u001b[39m\u001b[38;5;124masarray\u001b[39m\u001b[38;5;124m\"\u001b[39m)\n\u001b[1;32m   2081\u001b[0m dtype \u001b[38;5;241m=\u001b[39m dtypes\u001b[38;5;241m.\u001b[39mcanonicalize_dtype(dtype) \u001b[38;5;28;01mif\u001b[39;00m dtype \u001b[38;5;129;01mis\u001b[39;00m \u001b[38;5;129;01mnot\u001b[39;00m \u001b[38;5;28;01mNone\u001b[39;00m \u001b[38;5;28;01melse\u001b[39;00m dtype\n\u001b[0;32m-> 2082\u001b[0m \u001b[38;5;28;01mreturn\u001b[39;00m \u001b[43marray\u001b[49m\u001b[43m(\u001b[49m\u001b[43ma\u001b[49m\u001b[43m,\u001b[49m\u001b[43m \u001b[49m\u001b[43mdtype\u001b[49m\u001b[38;5;241;43m=\u001b[39;49m\u001b[43mdtype\u001b[49m\u001b[43m,\u001b[49m\u001b[43m \u001b[49m\u001b[43mcopy\u001b[49m\u001b[38;5;241;43m=\u001b[39;49m\u001b[38;5;28;43;01mFalse\u001b[39;49;00m\u001b[43m,\u001b[49m\u001b[43m \u001b[49m\u001b[43morder\u001b[49m\u001b[38;5;241;43m=\u001b[39;49m\u001b[43morder\u001b[49m\u001b[43m)\u001b[49m\n",
      "File \u001b[0;32m~/.local/lib/python3.9/site-packages/jax/_src/numpy/lax_numpy.py:2018\u001b[0m, in \u001b[0;36marray\u001b[0;34m(object, dtype, copy, order, ndmin)\u001b[0m\n\u001b[1;32m   2014\u001b[0m   _ \u001b[38;5;241m=\u001b[39m dtypes\u001b[38;5;241m.\u001b[39mcoerce_to_array(\u001b[38;5;28mobject\u001b[39m, dtype)\n\u001b[1;32m   2016\u001b[0m \u001b[38;5;28mobject\u001b[39m \u001b[38;5;241m=\u001b[39m tree_map(\u001b[38;5;28;01mlambda\u001b[39;00m leaf: leaf\u001b[38;5;241m.\u001b[39m__jax_array__() \u001b[38;5;28;01mif\u001b[39;00m \u001b[38;5;28mhasattr\u001b[39m(leaf, \u001b[38;5;124m\"\u001b[39m\u001b[38;5;124m__jax_array__\u001b[39m\u001b[38;5;124m\"\u001b[39m) \u001b[38;5;28;01melse\u001b[39;00m leaf,\n\u001b[1;32m   2017\u001b[0m                   \u001b[38;5;28mobject\u001b[39m)\n\u001b[0;32m-> 2018\u001b[0m leaves \u001b[38;5;241m=\u001b[39m \u001b[43mtree_leaves\u001b[49m\u001b[43m(\u001b[49m\u001b[38;5;28;43mobject\u001b[39;49m\u001b[43m)\u001b[49m\n\u001b[1;32m   2019\u001b[0m \u001b[38;5;28;01mif\u001b[39;00m dtype \u001b[38;5;129;01mis\u001b[39;00m \u001b[38;5;28;01mNone\u001b[39;00m:\n\u001b[1;32m   2020\u001b[0m   \u001b[38;5;66;03m# Use lattice_result_type rather than result_type to avoid canonicalization.\u001b[39;00m\n\u001b[1;32m   2021\u001b[0m   \u001b[38;5;66;03m# Otherwise, weakly-typed inputs would have their dtypes canonicalized.\u001b[39;00m\n\u001b[1;32m   2022\u001b[0m   \u001b[38;5;28;01mtry\u001b[39;00m:\n",
      "\u001b[0;31mKeyboardInterrupt\u001b[0m: "
     ]
    }
   ],
   "source": [
    "from tqdm import tqdm, trange\n",
    "\n",
    "num_steps = 10000\n",
    "    \n",
    "s0 = 2\n",
    "s1 = 150\n",
    "mu0 = 0.9\n",
    "eps = 0.002\n",
    "T = 80.\n",
    "\n",
    "\n",
    "with trange(num_steps) as steps:\n",
    "    for step in steps:\n",
    "        \n",
    "        x_batch, y_batch = next(train_iter)\n",
    "        x_batch, y_batch = np.array(x_batch), np.array(y_batch)\n",
    "\n",
    "        N = math.ceil(math.sqrt((step * ((s1 + 1) ** 2 - s0 ** 2) / num_steps) + s0 ** 2) - 1) + 1\n",
    "        mu = math.exp(s0 * math.log(mu0) / N)\n",
    "        \n",
    "        boundaries = karras_boundaries(7.0, eps, N, T)\n",
    "\n",
    "        key, _ = jax.random.split(key)\n",
    "        n_batch = jax.random.randint(key, minval=0, maxval=N, shape=(x_batch.shape[0], 1))\n",
    "        \n",
    "        key, _ = jax.random.split(key)\n",
    "        loss, grads = jax.value_and_grad(loss_fn)(state.params, state.params_ema, x_batch, boundaries[n_batch], boundaries[n_batch + 1], score, key)            \n",
    "        state = state.apply_gradients(grads=grads)\n",
    "        state = jax.lax.stop_gradient(apply_ema_decay(state, mu))\n",
    "        \n",
    "        steps.set_postfix(val=loss)"
   ]
  },
  {
   "cell_type": "code",
   "execution_count": null,
   "id": "72fd8dcc-98fc-4980-844f-8a22cd245d43",
   "metadata": {},
   "outputs": [],
   "source": [
    "def sample(params, score, ts, key):\n",
    "    \n",
    "    x0 = jax.random.normal(key, shape=(n_samples, 28, 28, 1)) * ts[0]\n",
    "    x = f_theta(params, score, x0, np.repeat(ts[0], x0.shape[0])[:, None])\n",
    "    for t in ts[1:]:\n",
    "        key, _ = jax.random.split(key)\n",
    "        z = jax.random.normal(key, shape=x0.shape)\n",
    "        x = x + math.sqrt(t ** 2 - eps ** 2) * z\n",
    "        x = f_theta(params, score, x, np.repeat(t, x0.shape[0])[:, None])\n",
    "        \n",
    "    return x\n",
    "\n",
    "n_samples = 10\n",
    "x_samples = sample(state.params, score, list(reversed([0.1, 2., T / 4., T / 2., T])), key)"
   ]
  },
  {
   "cell_type": "code",
   "execution_count": 272,
   "id": "78ad5b12-06d0-4a3d-b7ba-a5030c3faa03",
   "metadata": {},
   "outputs": [
    {
     "data": {
      "text/plain": [
       "<matplotlib.image.AxesImage at 0x2b0a85cc7e20>"
      ]
     },
     "execution_count": 303,
     "metadata": {},
     "output_type": "execute_result"
    },
    {
     "data": {
      "image/png": "[encoded data removed]",
      "text/plain": [
       "<Figure size 432x288 with 1 Axes>"
      ]
     },
     "metadata": {
      "needs_background": "light"
     },
     "output_type": "display_data"
    }
   ],
   "source": [
    "import matplotlib.pyplot as plt\n",
    "\n",
    "plt.imshow(x_samples[8, :, :, 0], origin='lower', cmap='binary')"
   ]
  },
  {
   "cell_type": "code",
   "execution_count": 237,
   "id": "92922ef6-e49b-45eb-a912-ad925d3158fc",
   "metadata": {},
   "outputs": [
    {
     "data": {
      "text/plain": [
       "<matplotlib.image.AxesImage at 0x2b0a66aaefd0>"
      ]
     },
     "execution_count": 237,
     "metadata": {},
     "output_type": "execute_result"
    },
    {
     "data": {
      "image/png": "[encoded data removed]",
      "text/plain": [
       "<Figure size 432x288 with 1 Axes>"
      ]
     },
     "metadata": {
      "needs_background": "light"
     },
     "output_type": "display_data"
    }
   ],
   "source": [
    "plt.imshow(np.array(x_batch[2, :, :, 0]), origin='lower', cmap='binary', vmin=-1, vmax=1)"
   ]
  },
  {
   "cell_type": "code",
   "execution_count": 203,
   "id": "8b4e90b5-ac0f-4790-aa6d-3b3f9bb87e99",
   "metadata": {},
   "outputs": [],
   "source": [
    "x, y = next(train_iter)"
   ]
  },
  {
   "cell_type": "code",
   "execution_count": null,
   "id": "5d144fd2-6c19-4a8f-8fee-611f333097df",
   "metadata": {},
   "outputs": [],
   "source": []
  }
 ],
 "metadata": {
  "kernelspec": {
   "display_name": "Python 3 (ipykernel)",
   "language": "python",
   "name": "python3"
  },
  "language_info": {
   "codemirror_mode": {
    "name": "ipython",
    "version": 3
   },
   "file_extension": ".py",
   "mimetype": "text/x-python",
   "name": "python",
   "nbconvert_exporter": "python",
   "pygments_lexer": "ipython3",
   "version": "3.9.12"
  }
 },
 "nbformat": 4,
 "nbformat_minor": 5
}
