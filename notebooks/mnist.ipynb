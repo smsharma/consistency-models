{
 "cells": [
  {
   "cell_type": "code",
   "execution_count": 1,
   "id": "c551e8f4-6672-428b-abd0-6154a325732c",
   "metadata": {},
   "outputs": [],
   "source": [
    "import sys\n",
    "\n",
    "sys.path.append(\"../\")\n",
    "\n",
    "import jax\n",
    "import jax.numpy as np\n",
    "import tensorflow as tf\n",
    "import tensorflow_datasets as tfds\n",
    "import optax\n",
    "from tqdm import tqdm, trange\n",
    "\n",
    "import math\n",
    "from functools import partial\n",
    "\n",
    "# Ensure TF does not see GPU and grab all GPU memory\n",
    "tf.config.experimental.set_visible_devices([], \"GPU\")\n",
    "\n",
    "from models.mlp_mixer import MLPMixer\n",
    "from models.utils import get_timestep_embedding, karras_boundaries, TrainState, apply_ema_decay"
   ]
  },
  {
   "cell_type": "code",
   "execution_count": null,
   "id": "54c188fc-d1ee-403c-997f-239d9363086f",
   "metadata": {},
   "outputs": [
    {
     "name": "stderr",
     "output_type": "stream",
     "text": [
      " 14%|████▌                            | 1364/10000 [04:37<22:46,  6.32it/s, val=0.0006402927]"
     ]
    }
   ],
   "source": [
    "num_batch = 64\n",
    "\n",
    "# Load MNIST dataset\n",
    "mnist_dataset, mnist_info = tfds.load(name=\"mnist\", with_info=True, as_supervised=True)\n",
    "\n",
    "# Split dataset into training and testing sets\n",
    "mnist_train, mnist_test = mnist_dataset[\"train\"], mnist_dataset[\"test\"]\n",
    "\n",
    "# Define function to normalize pixel values\n",
    "def normalize(image, label):\n",
    "    image = tf.cast(image, tf.float32) / 255\n",
    "    image = image - 0.5 / 0.5\n",
    "    return image, label\n",
    "\n",
    "\n",
    "# Apply normalization to both training and testing sets\n",
    "mnist_train = mnist_train.map(normalize)\n",
    "mnist_test = mnist_test.map(normalize)\n",
    "\n",
    "# Shuffle and batch the training set\n",
    "mnist_train = mnist_train.shuffle(mnist_info.splits[\"train\"].num_examples)\n",
    "mnist_train = mnist_train.batch(num_batch).prefetch(buffer_size=mnist_info.splits[\"train\"].num_examples)\n",
    "mnist_train = mnist_train.cache()\n",
    "mnist_train = mnist_train.repeat()\n",
    "\n",
    "# Batch the testing set\n",
    "mnist_test = mnist_test.batch(num_batch)\n",
    "\n",
    "train_iter = iter(mnist_train)\n",
    "x, y = next(train_iter)\n",
    "\n",
    "\n",
    "def f_theta(params, score, x, t, eps=0.002):\n",
    "\n",
    "    sigma_data = 0.5\n",
    "\n",
    "    c_skip = sigma_data**2 / ((t - eps) ** 2 + sigma_data**2)\n",
    "    c_out = sigma_data * (t - eps) / np.sqrt(sigma_data**2 + t**2)\n",
    "\n",
    "    t = t[..., 0]\n",
    "    t = get_timestep_embedding(t, 16)\n",
    "    x_out = score.apply(params, x, t)\n",
    "\n",
    "    return x * c_skip[:, None, None] + x_out * c_out[:, None, None]\n",
    "\n",
    "\n",
    "@partial(jax.jit, static_argnums=(5,))\n",
    "def loss_fn(params, params_ema, x, t1, t2, score, key):\n",
    "\n",
    "    z = jax.random.normal(key, shape=x.shape)\n",
    "\n",
    "    x2 = x + z * t2[:, None, None]\n",
    "    x2 = f_theta(params, score, x2, t2)\n",
    "\n",
    "    x1 = x + z * t1[:, None, None]\n",
    "    x1 = f_theta(params_ema, score, x1, t1)\n",
    "\n",
    "    return np.mean((x1 - x2) ** 2)\n",
    "\n",
    "\n",
    "key = jax.random.PRNGKey(42)\n",
    "score = MLPMixer(patch_size=4, channels=1, tokens_dim=64, mlp_dim=128, num_blocks=8)\n",
    "\n",
    "x = jax.random.normal(key, (4, 28, 28, 1))\n",
    "t = np.ones((4, 16))\n",
    "\n",
    "params = score.init(key, x, t)\n",
    "\n",
    "tx = optax.adam(learning_rate=6e-4)\n",
    "\n",
    "state = TrainState.create(apply_fn=score.apply, params=params, tx=tx, params_ema=params)\n",
    "\n",
    "num_steps = 10000\n",
    "\n",
    "s0 = 2\n",
    "s1 = 150\n",
    "mu0 = 0.9\n",
    "eps = 0.002\n",
    "T = 80.0\n",
    "\n",
    "with trange(num_steps) as steps:\n",
    "    for step in steps:\n",
    "\n",
    "        x_batch, y_batch = next(train_iter)\n",
    "        x_batch, y_batch = np.array(x_batch), np.array(y_batch)\n",
    "\n",
    "        N = math.ceil(math.sqrt((step * ((s1 + 1) ** 2 - s0**2) / num_steps) + s0**2) - 1) + 1\n",
    "        mu = math.exp(s0 * math.log(mu0) / N)\n",
    "\n",
    "        boundaries = karras_boundaries(7.0, eps, N, T)\n",
    "\n",
    "        key, _ = jax.random.split(key)\n",
    "        n_batch = jax.random.randint(key, minval=0, maxval=N, shape=(x_batch.shape[0], 1))\n",
    "\n",
    "        key, _ = jax.random.split(key)\n",
    "        loss, grads = jax.value_and_grad(loss_fn)(state.params, state.params_ema, x_batch, boundaries[n_batch], boundaries[n_batch + 1], score, key)\n",
    "        state = state.apply_gradients(grads=grads)\n",
    "        state = jax.lax.stop_gradient(apply_ema_decay(state, mu))\n",
    "\n",
    "        steps.set_postfix(val=loss)"
   ]
  },
  {
   "cell_type": "code",
   "execution_count": 1,
   "id": "579ce2f8-851b-49f5-b345-3dc4d49b2908",
   "metadata": {},
   "outputs": [],
   "source": [
    "import sys\n",
    "sys.path.append(\"../\")\n",
    "\n",
    "import jax\n",
    "import jax.numpy as np\n",
    "import tensorflow as tf\n",
    "import tensorflow_datasets as tfds\n",
    "\n",
    "import math\n",
    "from functools import partial\n",
    "\n",
    "# Ensure TF does not see GPU and grab all GPU memory\n",
    "tf.config.experimental.set_visible_devices([], \"GPU\")\n",
    "\n",
    "from models.transformer import VisionTransformer\n",
    "\n",
    "%load_ext autoreload\n",
    "%autoreload 2"
   ]
  },
  {
   "cell_type": "code",
   "execution_count": 2,
   "id": "4afa21a6-7b84-402d-a975-69249c6e78a1",
   "metadata": {},
   "outputs": [
    {
     "data": {
      "text/plain": [
       "(4, 28, 28, 1)"
      ]
     },
     "execution_count": 2,
     "metadata": {},
     "output_type": "execute_result"
    }
   ],
   "source": [
    "from models.mlp_mixer import MLPMixer\n",
    "\n",
    "mlp_mixer = MLPMixer(patch_size=4, channels=1, tokens_dim=64, mlp_dim=128, num_blocks=8)\n",
    "\n",
    "key = jax.random.PRNGKey(42)\n",
    "x = jax.random.normal(key, (4, 28, 28, 1))\n",
    "t = jax.random.normal(key, (4, 24))\n",
    "mlp_mixer.init_with_output(key, x, t)[0].shape"
   ]
  },
  {
   "cell_type": "code",
   "execution_count": 3,
   "id": "f0e5dc9b-74d8-4236-adce-111d153b51fd",
   "metadata": {},
   "outputs": [],
   "source": [
    "num_batch = 64\n",
    "\n",
    "# Load MNIST dataset\n",
    "mnist_dataset, mnist_info = tfds.load(name='mnist', with_info=True, as_supervised=True)\n",
    "\n",
    "# Split dataset into training and testing sets\n",
    "mnist_train, mnist_test = mnist_dataset['train'], mnist_dataset['test']\n",
    "\n",
    "# Define function to normalize pixel values\n",
    "def normalize(image, label):\n",
    "    image = tf.cast(image, tf.float32) / 255\n",
    "    image = (image - 0.5 / 0.5)\n",
    "    return image, label\n",
    "\n",
    "# Apply normalization to both training and testing sets\n",
    "mnist_train = mnist_train.map(normalize)\n",
    "mnist_test = mnist_test.map(normalize)\n",
    "\n",
    "# Shuffle and batch the training set\n",
    "mnist_train = mnist_train.shuffle(mnist_info.splits['train'].num_examples)\n",
    "mnist_train = mnist_train.batch(num_batch).prefetch(buffer_size=mnist_info.splits['train'].num_examples)\n",
    "mnist_train = mnist_train.cache()\n",
    "mnist_train = mnist_train.repeat()\n",
    "\n",
    "# Batch the testing set\n",
    "mnist_test = mnist_test.batch(num_batch)"
   ]
  },
  {
   "cell_type": "code",
   "execution_count": 4,
   "id": "b192cab8-87cc-4639-80e2-224c6b266fbf",
   "metadata": {},
   "outputs": [],
   "source": [
    "train_iter = iter(mnist_train)\n",
    "x, y = next(train_iter)"
   ]
  },
  {
   "cell_type": "code",
   "execution_count": 5,
   "id": "9fd1a690-4d0e-41d4-ad78-e8e5abab5be6",
   "metadata": {},
   "outputs": [],
   "source": [
    "from models.utils import get_timestep_embedding, karras_boundaries, TrainState, apply_ema_decay"
   ]
  },
  {
   "cell_type": "code",
   "execution_count": 6,
   "id": "de1a1b3a-75f2-4cac-b46c-add6bd7f64d0",
   "metadata": {},
   "outputs": [],
   "source": [
    "def f_theta(params, score, x, t, eps=0.002):\n",
    "    \n",
    "    sigma_data = 0.5\n",
    "    \n",
    "    c_skip = sigma_data ** 2 / ((t - eps) ** 2 + sigma_data ** 2)\n",
    "    c_out = sigma_data * (t - eps) / np.sqrt(sigma_data ** 2 + t ** 2)\n",
    "    \n",
    "    t = t[..., 0]\n",
    "    t = get_timestep_embedding(t, 16)\n",
    "    x_out = score.apply(params, x, t)\n",
    "    \n",
    "    return x * c_skip[:, None, None] + x_out * c_out[:, None, None]"
   ]
  },
  {
   "cell_type": "code",
   "execution_count": 10,
   "id": "d60fec79-43d9-4f83-9d6f-e810d4dc5001",
   "metadata": {},
   "outputs": [],
   "source": [
    "@partial(jax.jit, static_argnums=(5,))\n",
    "def loss_fn(params, params_ema, x, t1, t2, score, key):\n",
    "\n",
    "    z = jax.random.normal(key, shape=x.shape)\n",
    "\n",
    "    x2 = x + z * t2[:, None, None]\n",
    "    x2 = f_theta(params, score, x2, t2)\n",
    "    \n",
    "    x1 = x + z * t1[:, None, None]\n",
    "    x1 = f_theta(params_ema, score, x1, t1)\n",
    "    \n",
    "    return np.mean((x1 - x2) ** 2) "
   ]
  },
  {
   "cell_type": "code",
   "execution_count": 11,
   "id": "78ee4411-4213-4d3e-b77d-44baa3bc769d",
   "metadata": {},
   "outputs": [],
   "source": [
    "from models.unet import Unet\n",
    "\n",
    "key = jax.random.PRNGKey(42)\n",
    "score = MLPMixer(patch_size=4, channels=1, tokens_dim=64, mlp_dim=128, num_blocks=8)\n",
    "\n",
    "x = jax.random.normal(key, (4, 28, 28, 1))\n",
    "t = np.ones((4, 16))\n",
    "\n",
    "params = score.init(key, x, t)"
   ]
  },
  {
   "cell_type": "code",
   "execution_count": 12,
   "id": "71a7bb57-e5d9-4113-b79f-80f34ac2b55c",
   "metadata": {},
   "outputs": [
    {
     "data": {
      "text/plain": [
       "Array(0.00161512, dtype=float32)"
      ]
     },
     "execution_count": 12,
     "metadata": {},
     "output_type": "execute_result"
    }
   ],
   "source": [
    "t = np.ones((4, 1))\n",
    "loss_fn(params, params, x, t, t + 0.1, score, key)"
   ]
  },
  {
   "cell_type": "code",
   "execution_count": 13,
   "id": "349ffe8a-bb6f-4b34-b3a9-c71fcb1c589e",
   "metadata": {},
   "outputs": [],
   "source": [
    "import optax\n",
    "\n",
    "tx = optax.adam(learning_rate=6e-4)\n",
    "\n",
    "state = TrainState.create(\n",
    "              apply_fn=score.apply, \n",
    "              params=params, \n",
    "              tx=tx, \n",
    "              params_ema=params)"
   ]
  },
  {
   "cell_type": "code",
   "execution_count": 14,
   "id": "d9f02db5-a3e8-44dc-a479-5b4de5495614",
   "metadata": {},
   "outputs": [
    {
     "name": "stderr",
     "output_type": "stream",
     "text": [
      "  8%|██▊                               | 841/10000 [03:13<35:09,  4.34it/s, val=0.0008724958]\n"
     ]
    },
    {
     "ename": "KeyboardInterrupt",
     "evalue": "",
     "output_type": "error",
     "traceback": [
      "\u001b[0;31m---------------------------------------------------------------------------\u001b[0m",
      "\u001b[0;31mKeyboardInterrupt\u001b[0m                         Traceback (most recent call last)",
      "Input \u001b[0;32mIn [14]\u001b[0m, in \u001b[0;36m<cell line: 12>\u001b[0;34m()\u001b[0m\n\u001b[1;32m     26\u001b[0m key, _ \u001b[38;5;241m=\u001b[39m jax\u001b[38;5;241m.\u001b[39mrandom\u001b[38;5;241m.\u001b[39msplit(key)\n\u001b[1;32m     27\u001b[0m loss, grads \u001b[38;5;241m=\u001b[39m jax\u001b[38;5;241m.\u001b[39mvalue_and_grad(loss_fn)(state\u001b[38;5;241m.\u001b[39mparams, state\u001b[38;5;241m.\u001b[39mparams_ema, x_batch, boundaries[n_batch], boundaries[n_batch \u001b[38;5;241m+\u001b[39m \u001b[38;5;241m1\u001b[39m], score, key)            \n\u001b[0;32m---> 28\u001b[0m state \u001b[38;5;241m=\u001b[39m \u001b[43mstate\u001b[49m\u001b[38;5;241;43m.\u001b[39;49m\u001b[43mapply_gradients\u001b[49m\u001b[43m(\u001b[49m\u001b[43mgrads\u001b[49m\u001b[38;5;241;43m=\u001b[39;49m\u001b[43mgrads\u001b[49m\u001b[43m)\u001b[49m\n\u001b[1;32m     29\u001b[0m state \u001b[38;5;241m=\u001b[39m jax\u001b[38;5;241m.\u001b[39mlax\u001b[38;5;241m.\u001b[39mstop_gradient(apply_ema_decay(state, mu))\n\u001b[1;32m     31\u001b[0m steps\u001b[38;5;241m.\u001b[39mset_postfix(val\u001b[38;5;241m=\u001b[39mloss)\n",
      "File \u001b[0;32m~/.local/lib/python3.9/site-packages/flax/training/train_state.py:73\u001b[0m, in \u001b[0;36mTrainState.apply_gradients\u001b[0;34m(self, grads, **kwargs)\u001b[0m\n\u001b[1;32m     58\u001b[0m \u001b[38;5;28;01mdef\u001b[39;00m \u001b[38;5;21mapply_gradients\u001b[39m(\u001b[38;5;28mself\u001b[39m, \u001b[38;5;241m*\u001b[39m, grads, \u001b[38;5;241m*\u001b[39m\u001b[38;5;241m*\u001b[39mkwargs):\n\u001b[1;32m     59\u001b[0m \u001b[38;5;250m  \u001b[39m\u001b[38;5;124;03m\"\"\"Updates `step`, `params`, `opt_state` and `**kwargs` in return value.\u001b[39;00m\n\u001b[1;32m     60\u001b[0m \n\u001b[1;32m     61\u001b[0m \u001b[38;5;124;03m  Note that internally this function calls `.tx.update()` followed by a call\u001b[39;00m\n\u001b[0;32m   (...)\u001b[0m\n\u001b[1;32m     71\u001b[0m \u001b[38;5;124;03m    replaced as specified by `kwargs`.\u001b[39;00m\n\u001b[1;32m     72\u001b[0m \u001b[38;5;124;03m  \"\"\"\u001b[39;00m\n\u001b[0;32m---> 73\u001b[0m   updates, new_opt_state \u001b[38;5;241m=\u001b[39m \u001b[38;5;28;43mself\u001b[39;49m\u001b[38;5;241;43m.\u001b[39;49m\u001b[43mtx\u001b[49m\u001b[38;5;241;43m.\u001b[39;49m\u001b[43mupdate\u001b[49m\u001b[43m(\u001b[49m\n\u001b[1;32m     74\u001b[0m \u001b[43m      \u001b[49m\u001b[43mgrads\u001b[49m\u001b[43m,\u001b[49m\u001b[43m \u001b[49m\u001b[38;5;28;43mself\u001b[39;49m\u001b[38;5;241;43m.\u001b[39;49m\u001b[43mopt_state\u001b[49m\u001b[43m,\u001b[49m\u001b[43m \u001b[49m\u001b[38;5;28;43mself\u001b[39;49m\u001b[38;5;241;43m.\u001b[39;49m\u001b[43mparams\u001b[49m\u001b[43m)\u001b[49m\n\u001b[1;32m     75\u001b[0m   new_params \u001b[38;5;241m=\u001b[39m optax\u001b[38;5;241m.\u001b[39mapply_updates(\u001b[38;5;28mself\u001b[39m\u001b[38;5;241m.\u001b[39mparams, updates)\n\u001b[1;32m     76\u001b[0m   \u001b[38;5;28;01mreturn\u001b[39;00m \u001b[38;5;28mself\u001b[39m\u001b[38;5;241m.\u001b[39mreplace(\n\u001b[1;32m     77\u001b[0m       step\u001b[38;5;241m=\u001b[39m\u001b[38;5;28mself\u001b[39m\u001b[38;5;241m.\u001b[39mstep \u001b[38;5;241m+\u001b[39m \u001b[38;5;241m1\u001b[39m,\n\u001b[1;32m     78\u001b[0m       params\u001b[38;5;241m=\u001b[39mnew_params,\n\u001b[1;32m     79\u001b[0m       opt_state\u001b[38;5;241m=\u001b[39mnew_opt_state,\n\u001b[1;32m     80\u001b[0m       \u001b[38;5;241m*\u001b[39m\u001b[38;5;241m*\u001b[39mkwargs,\n\u001b[1;32m     81\u001b[0m   )\n",
      "File \u001b[0;32m~/.local/lib/python3.9/site-packages/optax/_src/combine.py:54\u001b[0m, in \u001b[0;36mchain.<locals>.update_fn\u001b[0;34m(updates, state, params)\u001b[0m\n\u001b[1;32m     52\u001b[0m new_state \u001b[38;5;241m=\u001b[39m []\n\u001b[1;32m     53\u001b[0m \u001b[38;5;28;01mfor\u001b[39;00m s, fn \u001b[38;5;129;01min\u001b[39;00m \u001b[38;5;28mzip\u001b[39m(state, update_fns):\n\u001b[0;32m---> 54\u001b[0m   updates, new_s \u001b[38;5;241m=\u001b[39m \u001b[43mfn\u001b[49m\u001b[43m(\u001b[49m\u001b[43mupdates\u001b[49m\u001b[43m,\u001b[49m\u001b[43m \u001b[49m\u001b[43ms\u001b[49m\u001b[43m,\u001b[49m\u001b[43m \u001b[49m\u001b[43mparams\u001b[49m\u001b[43m)\u001b[49m\n\u001b[1;32m     55\u001b[0m   new_state\u001b[38;5;241m.\u001b[39mappend(new_s)\n\u001b[1;32m     56\u001b[0m \u001b[38;5;28;01mreturn\u001b[39;00m updates, \u001b[38;5;28mtuple\u001b[39m(new_state)\n",
      "File \u001b[0;32m~/.local/lib/python3.9/site-packages/optax/_src/transform.py:343\u001b[0m, in \u001b[0;36mscale_by_adam.<locals>.update_fn\u001b[0;34m(***failed resolving arguments***)\u001b[0m\n\u001b[1;32m    341\u001b[0m \u001b[38;5;28;01mdel\u001b[39;00m params\n\u001b[1;32m    342\u001b[0m mu \u001b[38;5;241m=\u001b[39m update_moment(updates, state\u001b[38;5;241m.\u001b[39mmu, b1, \u001b[38;5;241m1\u001b[39m)\n\u001b[0;32m--> 343\u001b[0m nu \u001b[38;5;241m=\u001b[39m \u001b[43mupdate_moment_per_elem_norm\u001b[49m\u001b[43m(\u001b[49m\u001b[43mupdates\u001b[49m\u001b[43m,\u001b[49m\u001b[43m \u001b[49m\u001b[43mstate\u001b[49m\u001b[38;5;241;43m.\u001b[39;49m\u001b[43mnu\u001b[49m\u001b[43m,\u001b[49m\u001b[43m \u001b[49m\u001b[43mb2\u001b[49m\u001b[43m,\u001b[49m\u001b[43m \u001b[49m\u001b[38;5;241;43m2\u001b[39;49m\u001b[43m)\u001b[49m\n\u001b[1;32m    344\u001b[0m count_inc \u001b[38;5;241m=\u001b[39m numerics\u001b[38;5;241m.\u001b[39msafe_int32_increment(state\u001b[38;5;241m.\u001b[39mcount)\n\u001b[1;32m    345\u001b[0m mu_hat \u001b[38;5;241m=\u001b[39m bias_correction(mu, b1, count_inc)\n",
      "File \u001b[0;32m~/.local/lib/python3.9/site-packages/optax/_src/transform.py:106\u001b[0m, in \u001b[0;36mupdate_moment_per_elem_norm\u001b[0;34m(updates, moments, decay, order)\u001b[0m\n\u001b[1;32m    103\u001b[0m       half_order \u001b[38;5;241m=\u001b[39m \u001b[38;5;28mint\u001b[39m(half_order)\n\u001b[1;32m    104\u001b[0m     \u001b[38;5;28;01mreturn\u001b[39;00m _abs_sq(g) \u001b[38;5;241m*\u001b[39m\u001b[38;5;241m*\u001b[39m half_order\n\u001b[0;32m--> 106\u001b[0m \u001b[38;5;28;01mreturn\u001b[39;00m \u001b[43mjax\u001b[49m\u001b[38;5;241;43m.\u001b[39;49m\u001b[43mtree_util\u001b[49m\u001b[38;5;241;43m.\u001b[39;49m\u001b[43mtree_map\u001b[49m\u001b[43m(\u001b[49m\n\u001b[1;32m    107\u001b[0m \u001b[43m    \u001b[49m\u001b[38;5;28;43;01mlambda\u001b[39;49;00m\u001b[43m \u001b[49m\u001b[43mg\u001b[49m\u001b[43m,\u001b[49m\u001b[43m \u001b[49m\u001b[43mt\u001b[49m\u001b[43m:\u001b[49m\u001b[43m \u001b[49m\u001b[43m(\u001b[49m\u001b[38;5;241;43m1\u001b[39;49m\u001b[43m \u001b[49m\u001b[38;5;241;43m-\u001b[39;49m\u001b[43m \u001b[49m\u001b[43mdecay\u001b[49m\u001b[43m)\u001b[49m\u001b[43m \u001b[49m\u001b[38;5;241;43m*\u001b[39;49m\u001b[43m \u001b[49m\u001b[43morderth_norm\u001b[49m\u001b[43m(\u001b[49m\u001b[43mg\u001b[49m\u001b[43m)\u001b[49m\u001b[43m \u001b[49m\u001b[38;5;241;43m+\u001b[39;49m\u001b[43m \u001b[49m\u001b[43mdecay\u001b[49m\u001b[43m \u001b[49m\u001b[38;5;241;43m*\u001b[39;49m\u001b[43m \u001b[49m\u001b[43mt\u001b[49m\u001b[43m,\u001b[49m\u001b[43m \u001b[49m\u001b[43mupdates\u001b[49m\u001b[43m,\u001b[49m\u001b[43m \u001b[49m\u001b[43mmoments\u001b[49m\u001b[43m)\u001b[49m\n",
      "File \u001b[0;32m~/.local/lib/python3.9/site-packages/jax/_src/tree_util.py:207\u001b[0m, in \u001b[0;36mtree_map\u001b[0;34m(f, tree, is_leaf, *rest)\u001b[0m\n\u001b[1;32m    205\u001b[0m leaves, treedef \u001b[38;5;241m=\u001b[39m tree_flatten(tree, is_leaf)\n\u001b[1;32m    206\u001b[0m all_leaves \u001b[38;5;241m=\u001b[39m [leaves] \u001b[38;5;241m+\u001b[39m [treedef\u001b[38;5;241m.\u001b[39mflatten_up_to(r) \u001b[38;5;28;01mfor\u001b[39;00m r \u001b[38;5;129;01min\u001b[39;00m rest]\n\u001b[0;32m--> 207\u001b[0m \u001b[38;5;28;01mreturn\u001b[39;00m \u001b[43mtreedef\u001b[49m\u001b[38;5;241;43m.\u001b[39;49m\u001b[43munflatten\u001b[49m\u001b[43m(\u001b[49m\u001b[43mf\u001b[49m\u001b[43m(\u001b[49m\u001b[38;5;241;43m*\u001b[39;49m\u001b[43mxs\u001b[49m\u001b[43m)\u001b[49m\u001b[43m \u001b[49m\u001b[38;5;28;43;01mfor\u001b[39;49;00m\u001b[43m \u001b[49m\u001b[43mxs\u001b[49m\u001b[43m \u001b[49m\u001b[38;5;129;43;01min\u001b[39;49;00m\u001b[43m \u001b[49m\u001b[38;5;28;43mzip\u001b[39;49m\u001b[43m(\u001b[49m\u001b[38;5;241;43m*\u001b[39;49m\u001b[43mall_leaves\u001b[49m\u001b[43m)\u001b[49m\u001b[43m)\u001b[49m\n",
      "File \u001b[0;32m~/.local/lib/python3.9/site-packages/jax/_src/tree_util.py:207\u001b[0m, in \u001b[0;36m<genexpr>\u001b[0;34m(.0)\u001b[0m\n\u001b[1;32m    205\u001b[0m leaves, treedef \u001b[38;5;241m=\u001b[39m tree_flatten(tree, is_leaf)\n\u001b[1;32m    206\u001b[0m all_leaves \u001b[38;5;241m=\u001b[39m [leaves] \u001b[38;5;241m+\u001b[39m [treedef\u001b[38;5;241m.\u001b[39mflatten_up_to(r) \u001b[38;5;28;01mfor\u001b[39;00m r \u001b[38;5;129;01min\u001b[39;00m rest]\n\u001b[0;32m--> 207\u001b[0m \u001b[38;5;28;01mreturn\u001b[39;00m treedef\u001b[38;5;241m.\u001b[39munflatten(\u001b[43mf\u001b[49m\u001b[43m(\u001b[49m\u001b[38;5;241;43m*\u001b[39;49m\u001b[43mxs\u001b[49m\u001b[43m)\u001b[49m \u001b[38;5;28;01mfor\u001b[39;00m xs \u001b[38;5;129;01min\u001b[39;00m \u001b[38;5;28mzip\u001b[39m(\u001b[38;5;241m*\u001b[39mall_leaves))\n",
      "File \u001b[0;32m~/.local/lib/python3.9/site-packages/optax/_src/transform.py:107\u001b[0m, in \u001b[0;36mupdate_moment_per_elem_norm.<locals>.<lambda>\u001b[0;34m(g, t)\u001b[0m\n\u001b[1;32m    103\u001b[0m       half_order \u001b[38;5;241m=\u001b[39m \u001b[38;5;28mint\u001b[39m(half_order)\n\u001b[1;32m    104\u001b[0m     \u001b[38;5;28;01mreturn\u001b[39;00m _abs_sq(g) \u001b[38;5;241m*\u001b[39m\u001b[38;5;241m*\u001b[39m half_order\n\u001b[1;32m    106\u001b[0m \u001b[38;5;28;01mreturn\u001b[39;00m jax\u001b[38;5;241m.\u001b[39mtree_util\u001b[38;5;241m.\u001b[39mtree_map(\n\u001b[0;32m--> 107\u001b[0m     \u001b[38;5;28;01mlambda\u001b[39;00m g, t: (\u001b[38;5;241m1\u001b[39m \u001b[38;5;241m-\u001b[39m decay) \u001b[38;5;241m*\u001b[39m \u001b[43morderth_norm\u001b[49m\u001b[43m(\u001b[49m\u001b[43mg\u001b[49m\u001b[43m)\u001b[49m \u001b[38;5;241m+\u001b[39m decay \u001b[38;5;241m*\u001b[39m t, updates, moments)\n",
      "File \u001b[0;32m~/.local/lib/python3.9/site-packages/optax/_src/transform.py:98\u001b[0m, in \u001b[0;36mupdate_moment_per_elem_norm.<locals>.orderth_norm\u001b[0;34m(g)\u001b[0m\n\u001b[1;32m     96\u001b[0m \u001b[38;5;28;01mdef\u001b[39;00m \u001b[38;5;21morderth_norm\u001b[39m(g):\n\u001b[1;32m     97\u001b[0m   \u001b[38;5;28;01mif\u001b[39;00m jnp\u001b[38;5;241m.\u001b[39misrealobj(g):\n\u001b[0;32m---> 98\u001b[0m     \u001b[38;5;28;01mreturn\u001b[39;00m \u001b[43mg\u001b[49m\u001b[43m \u001b[49m\u001b[38;5;241;43m*\u001b[39;49m\u001b[38;5;241;43m*\u001b[39;49m\u001b[43m \u001b[49m\u001b[43morder\u001b[49m\n\u001b[1;32m     99\u001b[0m   \u001b[38;5;28;01melse\u001b[39;00m:\n\u001b[1;32m    100\u001b[0m     half_order \u001b[38;5;241m=\u001b[39m order \u001b[38;5;241m/\u001b[39m \u001b[38;5;241m2\u001b[39m\n",
      "File \u001b[0;32m~/.local/lib/python3.9/site-packages/jax/_src/numpy/lax_numpy.py:5071\u001b[0m, in \u001b[0;36m_defer_to_unrecognized_arg.<locals>.deferring_binary_op\u001b[0;34m(self, other)\u001b[0m\n\u001b[1;32m   5069\u001b[0m args \u001b[38;5;241m=\u001b[39m (other, \u001b[38;5;28mself\u001b[39m) \u001b[38;5;28;01mif\u001b[39;00m swap \u001b[38;5;28;01melse\u001b[39;00m (\u001b[38;5;28mself\u001b[39m, other)\n\u001b[1;32m   5070\u001b[0m \u001b[38;5;28;01mif\u001b[39;00m \u001b[38;5;28misinstance\u001b[39m(other, _accepted_binop_types):\n\u001b[0;32m-> 5071\u001b[0m   \u001b[38;5;28;01mreturn\u001b[39;00m \u001b[43mbinary_op\u001b[49m\u001b[43m(\u001b[49m\u001b[38;5;241;43m*\u001b[39;49m\u001b[43margs\u001b[49m\u001b[43m)\u001b[49m\n\u001b[1;32m   5072\u001b[0m \u001b[38;5;28;01mif\u001b[39;00m \u001b[38;5;28misinstance\u001b[39m(other, _rejected_binop_types):\n\u001b[1;32m   5073\u001b[0m   \u001b[38;5;28;01mraise\u001b[39;00m \u001b[38;5;167;01mTypeError\u001b[39;00m(\u001b[38;5;124mf\u001b[39m\u001b[38;5;124m\"\u001b[39m\u001b[38;5;124munsupported operand type(s) for \u001b[39m\u001b[38;5;132;01m{\u001b[39;00mopchar\u001b[38;5;132;01m}\u001b[39;00m\u001b[38;5;124m: \u001b[39m\u001b[38;5;124m\"\u001b[39m\n\u001b[1;32m   5074\u001b[0m                   \u001b[38;5;124mf\u001b[39m\u001b[38;5;124m\"\u001b[39m\u001b[38;5;132;01m{\u001b[39;00m\u001b[38;5;28mtype\u001b[39m(args[\u001b[38;5;241m0\u001b[39m])\u001b[38;5;241m.\u001b[39m\u001b[38;5;18m__name__\u001b[39m\u001b[38;5;132;01m!r}\u001b[39;00m\u001b[38;5;124m and \u001b[39m\u001b[38;5;132;01m{\u001b[39;00m\u001b[38;5;28mtype\u001b[39m(args[\u001b[38;5;241m1\u001b[39m])\u001b[38;5;241m.\u001b[39m\u001b[38;5;18m__name__\u001b[39m\u001b[38;5;132;01m!r}\u001b[39;00m\u001b[38;5;124m\"\u001b[39m)\n",
      "File \u001b[0;32m~/.local/lib/python3.9/site-packages/jax/_src/numpy/ufuncs.py:346\u001b[0m, in \u001b[0;36mpower\u001b[0;34m(x1, x2)\u001b[0m\n\u001b[1;32m    344\u001b[0m   \u001b[38;5;28;01melse\u001b[39;00m:\n\u001b[1;32m    345\u001b[0m     x1, \u001b[38;5;241m=\u001b[39m _promote_dtypes_numeric(x1)\n\u001b[0;32m--> 346\u001b[0m     \u001b[38;5;28;01mreturn\u001b[39;00m \u001b[43mlax\u001b[49m\u001b[38;5;241;43m.\u001b[39;49m\u001b[43minteger_pow\u001b[49m\u001b[43m(\u001b[49m\u001b[43mx1\u001b[49m\u001b[43m,\u001b[49m\u001b[43m \u001b[49m\u001b[43mx2\u001b[49m\u001b[43m)\u001b[49m\n\u001b[1;32m    347\u001b[0m \u001b[38;5;28;01mreturn\u001b[39;00m _power(x1, x2)\n",
      "File \u001b[0;32m~/.local/lib/python3.9/site-packages/jax/_src/lax/lax.py:415\u001b[0m, in \u001b[0;36minteger_pow\u001b[0;34m(x, y)\u001b[0m\n\u001b[1;32m    413\u001b[0m \u001b[38;5;28;01mdef\u001b[39;00m \u001b[38;5;21minteger_pow\u001b[39m(x: ArrayLike, y: \u001b[38;5;28mint\u001b[39m) \u001b[38;5;241m-\u001b[39m\u001b[38;5;241m>\u001b[39m Array:\n\u001b[1;32m    414\u001b[0m \u001b[38;5;250m  \u001b[39m\u001b[38;5;124mr\u001b[39m\u001b[38;5;124;03m\"\"\"Elementwise power: :math:`x^y`, where :math:`y` is a fixed integer.\"\"\"\u001b[39;00m\n\u001b[0;32m--> 415\u001b[0m   \u001b[38;5;28;01mreturn\u001b[39;00m \u001b[43minteger_pow_p\u001b[49m\u001b[38;5;241;43m.\u001b[39;49m\u001b[43mbind\u001b[49m\u001b[43m(\u001b[49m\u001b[43mx\u001b[49m\u001b[43m,\u001b[49m\u001b[43m \u001b[49m\u001b[43my\u001b[49m\u001b[38;5;241;43m=\u001b[39;49m\u001b[43my\u001b[49m\u001b[43m)\u001b[49m\n",
      "File \u001b[0;32m~/.local/lib/python3.9/site-packages/jax/_src/core.py:343\u001b[0m, in \u001b[0;36mPrimitive.bind\u001b[0;34m(self, *args, **params)\u001b[0m\n\u001b[1;32m    340\u001b[0m \u001b[38;5;28;01mdef\u001b[39;00m \u001b[38;5;21mbind\u001b[39m(\u001b[38;5;28mself\u001b[39m, \u001b[38;5;241m*\u001b[39margs, \u001b[38;5;241m*\u001b[39m\u001b[38;5;241m*\u001b[39mparams):\n\u001b[1;32m    341\u001b[0m   \u001b[38;5;28;01massert\u001b[39;00m (\u001b[38;5;129;01mnot\u001b[39;00m config\u001b[38;5;241m.\u001b[39mjax_enable_checks \u001b[38;5;129;01mor\u001b[39;00m\n\u001b[1;32m    342\u001b[0m           \u001b[38;5;28mall\u001b[39m(\u001b[38;5;28misinstance\u001b[39m(arg, Tracer) \u001b[38;5;129;01mor\u001b[39;00m valid_jaxtype(arg) \u001b[38;5;28;01mfor\u001b[39;00m arg \u001b[38;5;129;01min\u001b[39;00m args)), args\n\u001b[0;32m--> 343\u001b[0m   \u001b[38;5;28;01mreturn\u001b[39;00m \u001b[38;5;28;43mself\u001b[39;49m\u001b[38;5;241;43m.\u001b[39;49m\u001b[43mbind_with_trace\u001b[49m\u001b[43m(\u001b[49m\u001b[43mfind_top_trace\u001b[49m\u001b[43m(\u001b[49m\u001b[43margs\u001b[49m\u001b[43m)\u001b[49m\u001b[43m,\u001b[49m\u001b[43m \u001b[49m\u001b[43margs\u001b[49m\u001b[43m,\u001b[49m\u001b[43m \u001b[49m\u001b[43mparams\u001b[49m\u001b[43m)\u001b[49m\n",
      "File \u001b[0;32m~/.local/lib/python3.9/site-packages/jax/_src/core.py:346\u001b[0m, in \u001b[0;36mPrimitive.bind_with_trace\u001b[0;34m(self, trace, args, params)\u001b[0m\n\u001b[1;32m    345\u001b[0m \u001b[38;5;28;01mdef\u001b[39;00m \u001b[38;5;21mbind_with_trace\u001b[39m(\u001b[38;5;28mself\u001b[39m, trace, args, params):\n\u001b[0;32m--> 346\u001b[0m   out \u001b[38;5;241m=\u001b[39m \u001b[43mtrace\u001b[49m\u001b[38;5;241;43m.\u001b[39;49m\u001b[43mprocess_primitive\u001b[49m\u001b[43m(\u001b[49m\u001b[38;5;28;43mself\u001b[39;49m\u001b[43m,\u001b[49m\u001b[43m \u001b[49m\u001b[38;5;28;43mmap\u001b[39;49m\u001b[43m(\u001b[49m\u001b[43mtrace\u001b[49m\u001b[38;5;241;43m.\u001b[39;49m\u001b[43mfull_raise\u001b[49m\u001b[43m,\u001b[49m\u001b[43m \u001b[49m\u001b[43margs\u001b[49m\u001b[43m)\u001b[49m\u001b[43m,\u001b[49m\u001b[43m \u001b[49m\u001b[43mparams\u001b[49m\u001b[43m)\u001b[49m\n\u001b[1;32m    347\u001b[0m   \u001b[38;5;28;01mreturn\u001b[39;00m \u001b[38;5;28mmap\u001b[39m(full_lower, out) \u001b[38;5;28;01mif\u001b[39;00m \u001b[38;5;28mself\u001b[39m\u001b[38;5;241m.\u001b[39mmultiple_results \u001b[38;5;28;01melse\u001b[39;00m full_lower(out)\n",
      "File \u001b[0;32m~/.local/lib/python3.9/site-packages/jax/_src/core.py:789\u001b[0m, in \u001b[0;36mEvalTrace.process_primitive\u001b[0;34m(self, primitive, tracers, params)\u001b[0m\n\u001b[1;32m    788\u001b[0m \u001b[38;5;28;01mdef\u001b[39;00m \u001b[38;5;21mprocess_primitive\u001b[39m(\u001b[38;5;28mself\u001b[39m, primitive, tracers, params):\n\u001b[0;32m--> 789\u001b[0m   \u001b[38;5;28;01mreturn\u001b[39;00m \u001b[43mprimitive\u001b[49m\u001b[38;5;241;43m.\u001b[39;49m\u001b[43mimpl\u001b[49m\u001b[43m(\u001b[49m\u001b[38;5;241;43m*\u001b[39;49m\u001b[43mtracers\u001b[49m\u001b[43m,\u001b[49m\u001b[43m \u001b[49m\u001b[38;5;241;43m*\u001b[39;49m\u001b[38;5;241;43m*\u001b[39;49m\u001b[43mparams\u001b[49m\u001b[43m)\u001b[49m\n",
      "File \u001b[0;32m~/.local/lib/python3.9/site-packages/jax/_src/dispatch.py:125\u001b[0m, in \u001b[0;36mapply_primitive\u001b[0;34m(prim, *args, **params)\u001b[0m\n\u001b[1;32m    122\u001b[0m \u001b[38;5;250m\u001b[39m\u001b[38;5;124;03m\"\"\"Impl rule that compiles and runs a single primitive 'prim' using XLA.\"\"\"\u001b[39;00m\n\u001b[1;32m    123\u001b[0m compiled_fun \u001b[38;5;241m=\u001b[39m xla_primitive_callable(prim, \u001b[38;5;241m*\u001b[39munsafe_map(arg_spec, args),\n\u001b[1;32m    124\u001b[0m                                       \u001b[38;5;241m*\u001b[39m\u001b[38;5;241m*\u001b[39mparams)\n\u001b[0;32m--> 125\u001b[0m \u001b[38;5;28;01mreturn\u001b[39;00m \u001b[43mcompiled_fun\u001b[49m\u001b[43m(\u001b[49m\u001b[38;5;241;43m*\u001b[39;49m\u001b[43margs\u001b[49m\u001b[43m)\u001b[49m\n",
      "File \u001b[0;32m~/.local/lib/python3.9/site-packages/jax/_src/dispatch.py:205\u001b[0m, in \u001b[0;36mxla_primitive_callable.<locals>.<lambda>\u001b[0;34m(*args, **kw)\u001b[0m\n\u001b[1;32m    202\u001b[0m compiled \u001b[38;5;241m=\u001b[39m _xla_callable_uncached(lu\u001b[38;5;241m.\u001b[39mwrap_init(prim_fun), device, \u001b[38;5;28;01mNone\u001b[39;00m,\n\u001b[1;32m    203\u001b[0m                                   prim\u001b[38;5;241m.\u001b[39mname, donated_invars, \u001b[38;5;28;01mFalse\u001b[39;00m, \u001b[38;5;241m*\u001b[39marg_specs)\n\u001b[1;32m    204\u001b[0m \u001b[38;5;28;01mif\u001b[39;00m \u001b[38;5;129;01mnot\u001b[39;00m prim\u001b[38;5;241m.\u001b[39mmultiple_results:\n\u001b[0;32m--> 205\u001b[0m   \u001b[38;5;28;01mreturn\u001b[39;00m \u001b[38;5;28;01mlambda\u001b[39;00m \u001b[38;5;241m*\u001b[39margs, \u001b[38;5;241m*\u001b[39m\u001b[38;5;241m*\u001b[39mkw: \u001b[43mcompiled\u001b[49m\u001b[43m(\u001b[49m\u001b[38;5;241;43m*\u001b[39;49m\u001b[43margs\u001b[49m\u001b[43m,\u001b[49m\u001b[43m \u001b[49m\u001b[38;5;241;43m*\u001b[39;49m\u001b[38;5;241;43m*\u001b[39;49m\u001b[43mkw\u001b[49m\u001b[43m)\u001b[49m[\u001b[38;5;241m0\u001b[39m]\n\u001b[1;32m    206\u001b[0m \u001b[38;5;28;01melse\u001b[39;00m:\n\u001b[1;32m    207\u001b[0m   \u001b[38;5;28;01mreturn\u001b[39;00m compiled\n",
      "File \u001b[0;32m~/.local/lib/python3.9/site-packages/jax/_src/profiler.py:314\u001b[0m, in \u001b[0;36mannotate_function.<locals>.wrapper\u001b[0;34m(*args, **kwargs)\u001b[0m\n\u001b[1;32m    311\u001b[0m \u001b[38;5;129m@wraps\u001b[39m(func)\n\u001b[1;32m    312\u001b[0m \u001b[38;5;28;01mdef\u001b[39;00m \u001b[38;5;21mwrapper\u001b[39m(\u001b[38;5;241m*\u001b[39margs, \u001b[38;5;241m*\u001b[39m\u001b[38;5;241m*\u001b[39mkwargs):\n\u001b[1;32m    313\u001b[0m   \u001b[38;5;28;01mwith\u001b[39;00m TraceAnnotation(name, \u001b[38;5;241m*\u001b[39m\u001b[38;5;241m*\u001b[39mdecorator_kwargs):\n\u001b[0;32m--> 314\u001b[0m     \u001b[38;5;28;01mreturn\u001b[39;00m \u001b[43mfunc\u001b[49m\u001b[43m(\u001b[49m\u001b[38;5;241;43m*\u001b[39;49m\u001b[43margs\u001b[49m\u001b[43m,\u001b[49m\u001b[43m \u001b[49m\u001b[38;5;241;43m*\u001b[39;49m\u001b[38;5;241;43m*\u001b[39;49m\u001b[43mkwargs\u001b[49m\u001b[43m)\u001b[49m\n\u001b[1;32m    315\u001b[0m   \u001b[38;5;28;01mreturn\u001b[39;00m wrapper\n",
      "File \u001b[0;32m~/.local/lib/python3.9/site-packages/jax/_src/interpreters/pxla.py:2108\u001b[0m, in \u001b[0;36mExecuteReplicated.__call__\u001b[0;34m(self, *args)\u001b[0m\n\u001b[1;32m   2106\u001b[0m   out_bufs \u001b[38;5;241m=\u001b[39m \u001b[38;5;28mself\u001b[39m\u001b[38;5;241m.\u001b[39m_call_with_tokens(input_bufs)\n\u001b[1;32m   2107\u001b[0m \u001b[38;5;28;01melse\u001b[39;00m:\n\u001b[0;32m-> 2108\u001b[0m   out_bufs \u001b[38;5;241m=\u001b[39m \u001b[38;5;28;43mself\u001b[39;49m\u001b[38;5;241;43m.\u001b[39;49m\u001b[43mxla_executable\u001b[49m\u001b[38;5;241;43m.\u001b[39;49m\u001b[43mexecute_sharded_on_local_devices\u001b[49m\u001b[43m(\u001b[49m\n\u001b[1;32m   2109\u001b[0m \u001b[43m      \u001b[49m\u001b[43minput_bufs\u001b[49m\u001b[43m)\u001b[49m\n\u001b[1;32m   2110\u001b[0m \u001b[38;5;28;01mif\u001b[39;00m dispatch\u001b[38;5;241m.\u001b[39mneeds_check_special():\n\u001b[1;32m   2111\u001b[0m   \u001b[38;5;28;01mfor\u001b[39;00m bufs \u001b[38;5;129;01min\u001b[39;00m out_bufs:\n",
      "\u001b[0;31mKeyboardInterrupt\u001b[0m: "
     ]
    }
   ],
   "source": [
    "from tqdm import tqdm, trange\n",
    "\n",
    "num_steps = 10000\n",
    "    \n",
    "s0 = 2\n",
    "s1 = 150\n",
    "mu0 = 0.9\n",
    "eps = 0.002\n",
    "T = 80.\n",
    "\n",
    "\n",
    "with trange(num_steps) as steps:\n",
    "    for step in steps:\n",
    "        \n",
    "        x_batch, y_batch = next(train_iter)\n",
    "        x_batch, y_batch = np.array(x_batch), np.array(y_batch)\n",
    "\n",
    "        N = math.ceil(math.sqrt((step * ((s1 + 1) ** 2 - s0 ** 2) / num_steps) + s0 ** 2) - 1) + 1\n",
    "        mu = math.exp(s0 * math.log(mu0) / N)\n",
    "        \n",
    "        boundaries = karras_boundaries(7.0, eps, N, T)\n",
    "\n",
    "        key, _ = jax.random.split(key)\n",
    "        n_batch = jax.random.randint(key, minval=0, maxval=N, shape=(x_batch.shape[0], 1))\n",
    "        \n",
    "        key, _ = jax.random.split(key)\n",
    "        loss, grads = jax.value_and_grad(loss_fn)(state.params, state.params_ema, x_batch, boundaries[n_batch], boundaries[n_batch + 1], score, key)            \n",
    "        state = state.apply_gradients(grads=grads)\n",
    "        state = jax.lax.stop_gradient(apply_ema_decay(state, mu))\n",
    "        \n",
    "        steps.set_postfix(val=loss)"
   ]
  },
  {
   "cell_type": "code",
   "execution_count": 15,
   "id": "72fd8dcc-98fc-4980-844f-8a22cd245d43",
   "metadata": {},
   "outputs": [],
   "source": [
    "def sample(params, score, ts, key):\n",
    "    \n",
    "    x0 = jax.random.normal(key, shape=(n_samples, 28, 28, 1)) * ts[0]\n",
    "    x = f_theta(params, score, x0, np.repeat(ts[0], x0.shape[0])[:, None])\n",
    "    for t in ts[1:]:\n",
    "        key, _ = jax.random.split(key)\n",
    "        z = jax.random.normal(key, shape=x0.shape)\n",
    "        x = x + math.sqrt(t ** 2 - eps ** 2) * z\n",
    "        x = f_theta(params, score, x, np.repeat(t, x0.shape[0])[:, None])\n",
    "        \n",
    "    return x\n",
    "\n",
    "n_samples = 10\n",
    "x_samples = sample(state.params, score, list(reversed([0.1, 2., T / 4., T / 2., T])), key)"
   ]
  },
  {
   "cell_type": "code",
   "execution_count": 16,
   "id": "78ad5b12-06d0-4a3d-b7ba-a5030c3faa03",
   "metadata": {},
   "outputs": [
    {
     "data": {
      "text/plain": [
       "<matplotlib.image.AxesImage at 0x2b9b9c3b3190>"
      ]
     },
     "execution_count": 16,
     "metadata": {},
     "output_type": "execute_result"
    },
    {
     "data": {
      "image/png": "[encoded data removed]",
      "text/plain": [
       "<Figure size 432x288 with 1 Axes>"
      ]
     },
     "metadata": {
      "needs_background": "light"
     },
     "output_type": "display_data"
    }
   ],
   "source": [
    "import matplotlib.pyplot as plt\n",
    "\n",
    "plt.imshow(x_samples[8, :, :, 0], origin='lower', cmap='binary')"
   ]
  },
  {
   "cell_type": "code",
   "execution_count": 237,
   "id": "92922ef6-e49b-45eb-a912-ad925d3158fc",
   "metadata": {},
   "outputs": [
    {
     "data": {
      "text/plain": [
       "<matplotlib.image.AxesImage at 0x2b0a66aaefd0>"
      ]
     },
     "execution_count": 237,
     "metadata": {},
     "output_type": "execute_result"
    },
    {
     "data": {
      "image/png": "[encoded data removed]",
      "text/plain": [
       "<Figure size 432x288 with 1 Axes>"
      ]
     },
     "metadata": {
      "needs_background": "light"
     },
     "output_type": "display_data"
    }
   ],
   "source": [
    "plt.imshow(np.array(x_batch[2, :, :, 0]), origin='lower', cmap='binary', vmin=-1, vmax=1)"
   ]
  },
  {
   "cell_type": "code",
   "execution_count": 203,
   "id": "8b4e90b5-ac0f-4790-aa6d-3b3f9bb87e99",
   "metadata": {},
   "outputs": [],
   "source": [
    "x, y = next(train_iter)"
   ]
  },
  {
   "cell_type": "code",
   "execution_count": null,
   "id": "5d144fd2-6c19-4a8f-8fee-611f333097df",
   "metadata": {},
   "outputs": [],
   "source": []
  }
 ],
 "metadata": {
  "kernelspec": {
   "display_name": "Python 3 (ipykernel)",
   "language": "python",
   "name": "python3"
  },
  "language_info": {
   "codemirror_mode": {
    "name": "ipython",
    "version": 3
   },
   "file_extension": ".py",
   "mimetype": "text/x-python",
   "name": "python",
   "nbconvert_exporter": "python",
   "pygments_lexer": "ipython3",
   "version": "3.9.12"
  }
 },
 "nbformat": 4,
 "nbformat_minor": 5
}
